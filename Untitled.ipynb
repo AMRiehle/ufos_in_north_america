{
 "cells": [
  {
   "cell_type": "code",
   "execution_count": 1,
   "metadata": {},
   "outputs": [],
   "source": [
    "import pandas as pd"
   ]
  },
  {
   "cell_type": "code",
   "execution_count": 6,
   "metadata": {},
   "outputs": [
    {
     "data": {
      "text/html": [
       "<div>\n",
       "<style scoped>\n",
       "    .dataframe tbody tr th:only-of-type {\n",
       "        vertical-align: middle;\n",
       "    }\n",
       "\n",
       "    .dataframe tbody tr th {\n",
       "        vertical-align: top;\n",
       "    }\n",
       "\n",
       "    .dataframe thead th {\n",
       "        text-align: right;\n",
       "    }\n",
       "</style>\n",
       "<table border=\"1\" class=\"dataframe\">\n",
       "  <thead>\n",
       "    <tr style=\"text-align: right;\">\n",
       "      <th></th>\n",
       "      <th>city</th>\n",
       "      <th>comments</th>\n",
       "      <th>country</th>\n",
       "      <th>datetime</th>\n",
       "      <th>durationMinutes</th>\n",
       "      <th>shape</th>\n",
       "      <th>state</th>\n",
       "    </tr>\n",
       "  </thead>\n",
       "  <tbody>\n",
       "    <tr>\n",
       "      <th>0</th>\n",
       "      <td>benton</td>\n",
       "      <td>4 bright green circles high in the sky going i...</td>\n",
       "      <td>us</td>\n",
       "      <td>2010-01-01</td>\n",
       "      <td>5 mins.</td>\n",
       "      <td>circle</td>\n",
       "      <td>ar</td>\n",
       "    </tr>\n",
       "    <tr>\n",
       "      <th>1</th>\n",
       "      <td>bonita</td>\n",
       "      <td>Three bright red lights witnessed floating sta...</td>\n",
       "      <td>us</td>\n",
       "      <td>2010-01-01</td>\n",
       "      <td>13 minutes</td>\n",
       "      <td>light</td>\n",
       "      <td>ca</td>\n",
       "    </tr>\n",
       "    <tr>\n",
       "      <th>2</th>\n",
       "      <td>el cajon</td>\n",
       "      <td>On New Years Eve I went outside to hear the ce...</td>\n",
       "      <td>us</td>\n",
       "      <td>2010-01-01</td>\n",
       "      <td>6 minutes</td>\n",
       "      <td>triangle</td>\n",
       "      <td>ca</td>\n",
       "    </tr>\n",
       "    <tr>\n",
       "      <th>3</th>\n",
       "      <td>el cajon</td>\n",
       "      <td>3 Red objects hovering over El Cajon CA</td>\n",
       "      <td>us</td>\n",
       "      <td>2010-01-01</td>\n",
       "      <td>12 minutes</td>\n",
       "      <td>triangle</td>\n",
       "      <td>ca</td>\n",
       "    </tr>\n",
       "    <tr>\n",
       "      <th>4</th>\n",
       "      <td>fresno</td>\n",
       "      <td>Fresno cal. bright light hovers over head then...</td>\n",
       "      <td>us</td>\n",
       "      <td>2010-01-01</td>\n",
       "      <td>1 min</td>\n",
       "      <td>light</td>\n",
       "      <td>ca</td>\n",
       "    </tr>\n",
       "  </tbody>\n",
       "</table>\n",
       "</div>"
      ],
      "text/plain": [
       "       city                                           comments country  \\\n",
       "0    benton  4 bright green circles high in the sky going i...      us   \n",
       "1    bonita  Three bright red lights witnessed floating sta...      us   \n",
       "2  el cajon  On New Years Eve I went outside to hear the ce...      us   \n",
       "3  el cajon            3 Red objects hovering over El Cajon CA      us   \n",
       "4    fresno  Fresno cal. bright light hovers over head then...      us   \n",
       "\n",
       "    datetime durationMinutes     shape state  \n",
       "0 2010-01-01         5 mins.    circle    ar  \n",
       "1 2010-01-01      13 minutes     light    ca  \n",
       "2 2010-01-01       6 minutes  triangle    ca  \n",
       "3 2010-01-01      12 minutes  triangle    ca  \n",
       "4 2010-01-01           1 min     light    ca  "
      ]
     },
     "execution_count": 6,
     "metadata": {},
     "output_type": "execute_result"
    }
   ],
   "source": [
    "df = pd.read_json(\"dataFull.json\")\n",
    "df.head()"
   ]
  },
  {
   "cell_type": "code",
   "execution_count": 7,
   "metadata": {},
   "outputs": [
    {
     "data": {
      "text/plain": [
       "light        5253\n",
       "fireball     2870\n",
       "circle       2806\n",
       "triangle     2101\n",
       "sphere       1843\n",
       "unknown      1644\n",
       "other        1387\n",
       "oval         1074\n",
       "disk          844\n",
       "formation     797\n",
       "changing      548\n",
       "flash         448\n",
       "cigar         398\n",
       "rectangle     360\n",
       "diamond       351\n",
       "cylinder      347\n",
       "chevron       219\n",
       "teardrop      207\n",
       "egg           151\n",
       "cone           86\n",
       "cross          86\n",
       "Name: shape, dtype: int64"
      ]
     },
     "execution_count": 7,
     "metadata": {},
     "output_type": "execute_result"
    }
   ],
   "source": [
    "df[\"shape\"].value_counts()"
   ]
  }
 ],
 "metadata": {
  "kernelspec": {
   "display_name": "Python 3",
   "language": "python",
   "name": "python3"
  },
  "language_info": {
   "codemirror_mode": {
    "name": "ipython",
    "version": 3
   },
   "file_extension": ".py",
   "mimetype": "text/x-python",
   "name": "python",
   "nbconvert_exporter": "python",
   "pygments_lexer": "ipython3",
   "version": "3.6.4"
  }
 },
 "nbformat": 4,
 "nbformat_minor": 2
}
